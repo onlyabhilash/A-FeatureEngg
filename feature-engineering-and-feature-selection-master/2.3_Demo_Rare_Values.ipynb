{
 "cells": [
  {
   "cell_type": "code",
   "execution_count": 1,
   "id": "interpreted-testing",
   "metadata": {},
   "outputs": [],
   "source": [
    "import pandas as pd\n",
    "import numpy as np\n",
    "# import seaborn as sns\n",
    "# import matplotlib.pyplot as plt\n",
    "import os\n",
    "# plt.style.use('seaborn-colorblind')\n",
    "# %matplotlib inline\n",
    "from feature_cleaning import rare_values as ra"
   ]
  },
  {
   "cell_type": "markdown",
   "id": "existing-hearing",
   "metadata": {},
   "source": [
    "### Load Dataset"
   ]
  },
  {
   "cell_type": "code",
   "execution_count": 2,
   "id": "light-bridges",
   "metadata": {},
   "outputs": [
    {
     "name": "stdout",
     "output_type": "stream",
     "text": [
      "Variable Pclass label proportion:\n",
      "3    0.551066\n",
      "1    0.242424\n",
      "2    0.206510\n",
      "Name: Pclass, dtype: float64\n",
      "Variable SibSp label proportion:\n",
      "0    0.682379\n",
      "1    0.234568\n",
      "2    0.031425\n",
      "4    0.020202\n",
      "3    0.017957\n",
      "8    0.007856\n",
      "5    0.005612\n",
      "Name: SibSp, dtype: float64\n"
     ]
    }
   ],
   "source": [
    "\n",
    "use_cols = [\n",
    "    'Pclass', 'Sex', 'Age', 'Fare', 'SibSp',\n",
    "    'Survived'\n",
    "]\n",
    "\n",
    "# see column Pclass & SibSp's distributions\n",
    "# SibSp has values 3/8/5 that occur rarely, under 2%\n",
    "# Pclass has 3 values, but no one is under 20%\n",
    "data = pd.read_csv('./data/titanic.csv', usecols=use_cols)\n",
    "for i in ['Pclass','SibSp']:\n",
    "    print('Variable',i,'label proportion:')\n",
    "    print(data[i].value_counts()/len(data))"
   ]
  },
  {
   "cell_type": "markdown",
   "id": "elegant-manhattan",
   "metadata": {},
   "source": [
    "### Grouping into one new category\n",
    "#### Grouping the observations that show rare labels into a unique category ('rare')"
   ]
  },
  {
   "cell_type": "code",
   "execution_count": null,
   "id": "geographic-tucson",
   "metadata": {},
   "outputs": [],
   "source": []
  }
 ],
 "metadata": {
  "kernelspec": {
   "display_name": "Python 3",
   "language": "python",
   "name": "python3"
  },
  "language_info": {
   "codemirror_mode": {
    "name": "ipython",
    "version": 3
   },
   "file_extension": ".py",
   "mimetype": "text/x-python",
   "name": "python",
   "nbconvert_exporter": "python",
   "pygments_lexer": "ipython3",
   "version": "3.7.9"
  }
 },
 "nbformat": 4,
 "nbformat_minor": 5
}
