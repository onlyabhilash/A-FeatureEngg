{
 "cells": [
  {
   "cell_type": "code",
   "execution_count": 1,
   "id": "favorite-parking",
   "metadata": {},
   "outputs": [],
   "source": [
    "import pandas as pd\n",
    "import numpy as np\n",
    "# import seaborn as sns\n",
    "# import matplotlib.pyplot as plt\n",
    "import os\n",
    "# plt.style.use('seaborn-colorblind')\n",
    "# %matplotlib inline\n",
    "from feature_cleaning import outlier as ot"
   ]
  },
  {
   "cell_type": "code",
   "execution_count": 2,
   "id": "sustainable-executive",
   "metadata": {},
   "outputs": [
    {
     "name": "stdout",
     "output_type": "stream",
     "text": [
      "(891, 6)\n"
     ]
    }
   ],
   "source": [
    "use_cols = [\n",
    "    'Pclass', 'Sex', 'Age', 'Fare', 'SibSp',\n",
    "    'Survived'\n",
    "]\n",
    "\n",
    "\n",
    "data = pd.read_csv('./data/titanic.csv', usecols=use_cols)\n",
    "data.head(3)\n",
    "print(data.shape)"
   ]
  },
  {
   "cell_type": "code",
   "execution_count": 3,
   "id": "dried-kingston",
   "metadata": {},
   "outputs": [
    {
     "data": {
      "text/plain": [
       "104      0.0000\n",
       "163      4.0125\n",
       "245      5.0000\n",
       "152      6.2375\n",
       "240      6.4375\n",
       "         ...   \n",
       "164    227.5250\n",
       "75     247.5208\n",
       "148    262.3750\n",
       "23     263.0000\n",
       "127    512.3292\n",
       "Length: 248, dtype: float64"
      ]
     },
     "execution_count": 3,
     "metadata": {},
     "output_type": "execute_result"
    }
   ],
   "source": [
    "pd.Series(data.Fare.unique()).sort_values()"
   ]
  },
  {
   "cell_type": "markdown",
   "id": "military-shoulder",
   "metadata": {},
   "source": [
    "### Detect by arbitrary boundary\n",
    "#### identify outliers based on arbitrary boundaries"
   ]
  },
  {
   "cell_type": "code",
   "execution_count": 4,
   "id": "later-powder",
   "metadata": {},
   "outputs": [
    {
     "name": "stdout",
     "output_type": "stream",
     "text": [
      "Num of outlier detected: 19\n",
      "Proportion of outlier detected 0.02132435465768799\n",
      "Upper bound: 300 \n",
      "Lower bound: 5\n"
     ]
    }
   ],
   "source": [
    "index,para = ot.outlier_detect_arbitrary(data=data,col='Fare',upper_fence=300,lower_fence=5)\n",
    "print('Upper bound:',para[0],'\\nLower bound:',para[1])"
   ]
  },
  {
   "cell_type": "code",
   "execution_count": 5,
   "id": "olive-gathering",
   "metadata": {},
   "outputs": [
    {
     "data": {
      "text/plain": [
       "179      0.0000\n",
       "806      0.0000\n",
       "732      0.0000\n",
       "674      0.0000\n",
       "633      0.0000\n",
       "597      0.0000\n",
       "815      0.0000\n",
       "466      0.0000\n",
       "481      0.0000\n",
       "302      0.0000\n",
       "277      0.0000\n",
       "271      0.0000\n",
       "263      0.0000\n",
       "413      0.0000\n",
       "822      0.0000\n",
       "378      4.0125\n",
       "679    512.3292\n",
       "737    512.3292\n",
       "258    512.3292\n",
       "Name: Fare, dtype: float64"
      ]
     },
     "execution_count": 5,
     "metadata": {},
     "output_type": "execute_result"
    }
   ],
   "source": [
    "# check the 19 found outliers\n",
    "data.loc[index,'Fare'].sort_values()"
   ]
  },
  {
   "cell_type": "markdown",
   "id": "configured-census",
   "metadata": {},
   "source": [
    "### IQR method\n",
    "#### outlier detection by Interquartile Ranges Rule"
   ]
  },
  {
   "cell_type": "code",
   "execution_count": 6,
   "id": "natural-communist",
   "metadata": {},
   "outputs": [
    {
     "name": "stdout",
     "output_type": "stream",
     "text": [
      "Num of outlier detected: 31\n",
      "Proportion of outlier detected 0.03479236812570146\n",
      "Upper bound: 146.448 \n",
      "Lower bound: -107.53760000000001\n"
     ]
    }
   ],
   "source": [
    "index,para = ot.outlier_detect_IQR(data=data,col='Fare',threshold=5)\n",
    "print('Upper bound:',para[0],'\\nLower bound:',para[1])"
   ]
  },
  {
   "cell_type": "code",
   "execution_count": 7,
   "id": "governmental-lying",
   "metadata": {},
   "outputs": [
    {
     "data": {
      "text/plain": [
       "31     146.5208\n",
       "195    146.5208\n",
       "305    151.5500\n",
       "708    151.5500\n",
       "297    151.5500\n",
       "498    151.5500\n",
       "609    153.4625\n",
       "332    153.4625\n",
       "268    153.4625\n",
       "318    164.8667\n",
       "856    164.8667\n",
       "730    211.3375\n",
       "779    211.3375\n",
       "689    211.3375\n",
       "377    211.5000\n",
       "527    221.7792\n",
       "700    227.5250\n",
       "716    227.5250\n",
       "557    227.5250\n",
       "380    227.5250\n",
       "299    247.5208\n",
       "118    247.5208\n",
       "311    262.3750\n",
       "742    262.3750\n",
       "341    263.0000\n",
       "88     263.0000\n",
       "438    263.0000\n",
       "27     263.0000\n",
       "679    512.3292\n",
       "258    512.3292\n",
       "737    512.3292\n",
       "Name: Fare, dtype: float64"
      ]
     },
     "execution_count": 7,
     "metadata": {},
     "output_type": "execute_result"
    }
   ],
   "source": [
    "# check the 31 found outliers\n",
    "data.loc[index,'Fare'].sort_values()"
   ]
  },
  {
   "cell_type": "markdown",
   "id": "nutritional-cement",
   "metadata": {},
   "source": [
    "### Mean and Standard Deviation Method\n",
    "#### outlier detection by Mean and Standard Deviation Method."
   ]
  },
  {
   "cell_type": "code",
   "execution_count": 8,
   "id": "sharing-climate",
   "metadata": {},
   "outputs": [
    {
     "name": "stdout",
     "output_type": "stream",
     "text": [
      "Num of outlier detected: 20\n",
      "Proportion of outlier detected 0.02244668911335578\n",
      "Upper bound: 181.2844937601173 \n",
      "Lower bound: -116.87607782296804\n"
     ]
    }
   ],
   "source": [
    "index,para = ot.outlier_detect_mean_std(data=data,col='Fare',threshold=3)\n",
    "print('Upper bound:',para[0],'\\nLower bound:',para[1])"
   ]
  },
  {
   "cell_type": "code",
   "execution_count": 9,
   "id": "adjusted-pizza",
   "metadata": {},
   "outputs": [
    {
     "data": {
      "text/plain": [
       "779    211.3375\n",
       "730    211.3375\n",
       "689    211.3375\n",
       "377    211.5000\n",
       "527    221.7792\n",
       "716    227.5250\n",
       "700    227.5250\n",
       "380    227.5250\n",
       "557    227.5250\n",
       "118    247.5208\n",
       "299    247.5208\n",
       "311    262.3750\n",
       "742    262.3750\n",
       "27     263.0000\n",
       "341    263.0000\n",
       "88     263.0000\n",
       "438    263.0000\n",
       "258    512.3292\n",
       "737    512.3292\n",
       "679    512.3292\n",
       "Name: Fare, dtype: float64"
      ]
     },
     "execution_count": 9,
     "metadata": {},
     "output_type": "execute_result"
    }
   ],
   "source": [
    "# check the 20 found outliers\n",
    "data.loc[index,'Fare'].sort_values()"
   ]
  },
  {
   "cell_type": "code",
   "execution_count": null,
   "id": "precise-ensemble",
   "metadata": {},
   "outputs": [],
   "source": []
  }
 ],
 "metadata": {
  "kernelspec": {
   "display_name": "Python 3",
   "language": "python",
   "name": "python3"
  },
  "language_info": {
   "codemirror_mode": {
    "name": "ipython",
    "version": 3
   },
   "file_extension": ".py",
   "mimetype": "text/x-python",
   "name": "python",
   "nbconvert_exporter": "python",
   "pygments_lexer": "ipython3",
   "version": "3.7.9"
  }
 },
 "nbformat": 4,
 "nbformat_minor": 5
}
