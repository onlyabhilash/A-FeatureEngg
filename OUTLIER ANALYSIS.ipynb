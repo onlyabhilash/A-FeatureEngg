{
 "cells": [
  {
   "cell_type": "markdown",
   "id": "regulated-rehabilitation",
   "metadata": {},
   "source": [
    "### OUTLIER DETECTION"
   ]
  },
  {
   "cell_type": "markdown",
   "id": "executed-vietnamese",
   "metadata": {},
   "source": [
    "#### Outlier can be of two types: Univariate and Multivariate. Above, we have discussed the example of univariate outlier. These outliers can be found when we look at distribution of a single variable. Multi-variate outliers are outliers in an n-dimensional space."
   ]
  },
  {
   "cell_type": "markdown",
   "id": "available-cancer",
   "metadata": {},
   "source": [
    "### DIFFERENT OUTLIER DETECTION TECHNIQUE."
   ]
  },
  {
   "cell_type": "markdown",
   "id": "affecting-harassment",
   "metadata": {},
   "source": [
    "1. Hypothesis Testing\n",
    "2. Z-score method\n",
    "3. Robust Z-score\n",
    "4. I.Q.R method\n",
    "5. Winsorization method(Percentile Capping)\n",
    "6. DBSCAN Clustering\n",
    "7. Isolation Forest\n",
    "8. Visualizing the data"
   ]
  },
  {
   "cell_type": "markdown",
   "id": "convinced-suspect",
   "metadata": {},
   "source": [
    "#### 1. HYPOTHESIS TESTING(GRUBBS TEST)"
   ]
  },
  {
   "cell_type": "markdown",
   "id": "gorgeous-envelope",
   "metadata": {},
   "source": []
  }
 ],
 "metadata": {
  "kernelspec": {
   "display_name": "Python 3",
   "language": "python",
   "name": "python3"
  },
  "language_info": {
   "codemirror_mode": {
    "name": "ipython",
    "version": 3
   },
   "file_extension": ".py",
   "mimetype": "text/x-python",
   "name": "python",
   "nbconvert_exporter": "python",
   "pygments_lexer": "ipython3",
   "version": "3.7.9"
  }
 },
 "nbformat": 4,
 "nbformat_minor": 5
}
